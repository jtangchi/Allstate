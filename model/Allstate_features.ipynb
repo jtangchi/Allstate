{
 "cells": [
  {
   "cell_type": "code",
   "execution_count": 1,
   "metadata": {
    "collapsed": false
   },
   "outputs": [],
   "source": [
    "import numpy as np\n",
    "import scipy as sp\n",
    "from pandas import DataFrame, Series\n",
    "import pandas as pd\n",
    "import seaborn as sns\n",
    "import matplotlib.pyplot as plt\n",
    "import sklearn as sk\n",
    "import os,time,datetime\n",
    "from sklearn.preprocessing import MinMaxScaler\n",
    "import pickle\n",
    "\n",
    "import xgboost as xgb\n",
    "from bayes_opt import BayesianOptimization\n",
    "from sklearn.metrics import mean_absolute_error\n",
    "from sklearn.model_selection import KFold\n",
    "\n",
    "%matplotlib inline"
   ]
  },
  {
   "cell_type": "code",
   "execution_count": 3,
   "metadata": {
    "collapsed": true
   },
   "outputs": [],
   "source": [
    "xtrain  = pd.read_csv('X_train_OHE.csv')\n",
    "ytrain = pd.read_csv('Y_train.csv')\n",
    "xtest  = pd.read_csv('X_test_OHE.csv')"
   ]
  },
  {
   "cell_type": "code",
   "execution_count": 4,
   "metadata": {
    "collapsed": true
   },
   "outputs": [],
   "source": [
    "test = pd.read_csv('test.csv')\n",
    "ids = test['id']"
   ]
  },
  {
   "cell_type": "code",
   "execution_count": 5,
   "metadata": {
    "collapsed": false
   },
   "outputs": [
    {
     "data": {
      "text/plain": [
       "count    125546.000000\n",
       "mean     294067.153442\n",
       "std      170098.335649\n",
       "min           4.000000\n",
       "25%      146414.250000\n",
       "50%      294306.000000\n",
       "75%      441800.000000\n",
       "max      587634.000000\n",
       "Name: id, dtype: float64"
      ]
     },
     "execution_count": 5,
     "metadata": {},
     "output_type": "execute_result"
    }
   ],
   "source": [
    "ids.describe()"
   ]
  },
  {
   "cell_type": "code",
   "execution_count": 6,
   "metadata": {
    "collapsed": false
   },
   "outputs": [
    {
     "data": {
      "text/plain": [
       "Index([u'cat1_A', u'cat1_B', u'cat2_A', u'cat2_B', u'cat3_A', u'cat3_B',\n",
       "       u'cat4_A', u'cat4_B', u'cat5_A', u'cat5_B',\n",
       "       ...\n",
       "       u'cont5', u'cont6', u'cont7', u'cont8', u'cont9', u'cont10', u'cont11',\n",
       "       u'cont12', u'cont13', u'cont14'],\n",
       "      dtype='object', length=1153)"
      ]
     },
     "execution_count": 6,
     "metadata": {},
     "output_type": "execute_result"
    }
   ],
   "source": [
    "train_col = xtrain.columns \n",
    "train_col"
   ]
  },
  {
   "cell_type": "code",
   "execution_count": 7,
   "metadata": {
    "collapsed": false
   },
   "outputs": [
    {
     "data": {
      "text/plain": [
       "Index([u'cat1_A', u'cat1_B', u'cat2_A', u'cat2_B', u'cat3_A', u'cat3_B',\n",
       "       u'cat4_A', u'cat4_B', u'cat5_A', u'cat5_B',\n",
       "       ...\n",
       "       u'cont5', u'cont6', u'cont7', u'cont8', u'cont9', u'cont10', u'cont11',\n",
       "       u'cont12', u'cont13', u'cont14'],\n",
       "      dtype='object', length=1116)"
      ]
     },
     "execution_count": 7,
     "metadata": {},
     "output_type": "execute_result"
    }
   ],
   "source": [
    "test_col = xtest.columns\n",
    "test_col"
   ]
  },
  {
   "cell_type": "code",
   "execution_count": 8,
   "metadata": {
    "collapsed": false
   },
   "outputs": [
    {
     "data": {
      "text/plain": [
       "array(['cat1_A', 'cat1_B', 'cat2_A', ..., 'cont12', 'cont13', 'cont14'], dtype=object)"
      ]
     },
     "execution_count": 8,
     "metadata": {},
     "output_type": "execute_result"
    }
   ],
   "source": [
    "test_col.unique()"
   ]
  },
  {
   "cell_type": "code",
   "execution_count": 9,
   "metadata": {
    "collapsed": false
   },
   "outputs": [
    {
     "data": {
      "text/plain": [
       "Index([u'cat1_A', u'cat1_B', u'cat2_A', u'cat2_B', u'cat3_A', u'cat3_B',\n",
       "       u'cat4_A', u'cat4_B', u'cat5_A', u'cat5_B',\n",
       "       ...\n",
       "       u'cont5', u'cont6', u'cont7', u'cont8', u'cont9', u'cont10', u'cont11',\n",
       "       u'cont12', u'cont13', u'cont14'],\n",
       "      dtype='object', length=1079)"
      ]
     },
     "execution_count": 9,
     "metadata": {},
     "output_type": "execute_result"
    }
   ],
   "source": [
    "common_col = test_col & train_col\n",
    "common_col"
   ]
  },
  {
   "cell_type": "code",
   "execution_count": 11,
   "metadata": {
    "collapsed": false
   },
   "outputs": [
    {
     "name": "stdout",
     "output_type": "stream",
     "text": [
      "Index([u'cat103_M', u'cat106_Q', u'cat109_AD', u'cat110_BH', u'cat110_CA',\n",
      "       u'cat110_EN', u'cat111_L', u'cat113_AA', u'cat113_R', u'cat116_A',\n",
      "       u'cat116_AI', u'cat116_AQ', u'cat116_BE', u'cat116_BH', u'cat116_BJ',\n",
      "       u'cat116_BN', u'cat116_BR', u'cat116_DB', u'cat116_EM', u'cat116_ER',\n",
      "       u'cat116_ET', u'cat116_EX', u'cat116_FY', u'cat116_HS', u'cat116_IS',\n",
      "       u'cat116_IW', u'cat116_JS', u'cat116_KO', u'cat116_LP', u'cat116_LS',\n",
      "       u'cat116_MX', u'cat116_N', u'cat89_F', u'cat92_E', u'cat92_G',\n",
      "       u'cat96_H', u'cat99_U'],\n",
      "      dtype='object')\n",
      "(37,)\n"
     ]
    },
    {
     "name": "stderr",
     "output_type": "stream",
     "text": [
      "/home/chi/anaconda2/lib/python2.7/site-packages/ipykernel/__main__.py:1: FutureWarning: using '-' to provide set differences with Indexes is deprecated, use .difference()\n",
      "  if __name__ == '__main__':\n"
     ]
    }
   ],
   "source": [
    "test_only = test_col - common_col\n",
    "print test_only\n",
    "print test_only.shape"
   ]
  },
  {
   "cell_type": "code",
   "execution_count": 12,
   "metadata": {
    "collapsed": false
   },
   "outputs": [
    {
     "name": "stdout",
     "output_type": "stream",
     "text": [
      "Index([u'cat101_N', u'cat101_U', u'cat102_H', u'cat102_J', u'cat105_R',\n",
      "       u'cat105_S', u'cat109_AG', u'cat109_AK', u'cat109_B', u'cat109_BF',\n",
      "       u'cat109_BM', u'cat109_BP', u'cat109_BT', u'cat109_BV', u'cat109_BY',\n",
      "       u'cat109_CJ', u'cat109_J', u'cat110_AF', u'cat110_AN', u'cat110_BD',\n",
      "       u'cat110_BI', u'cat110_BK', u'cat110_BN', u'cat110_CB', u'cat110_DV',\n",
      "       u'cat110_EH', u'cat110_EI', u'cat110_H', u'cat111_D', u'cat113_AC',\n",
      "       u'cat113_BE', u'cat113_T', u'cat114_X', u'cat116_AB', u'cat116_AH',\n",
      "       u'cat116_AM', u'cat116_AP', u'cat116_AS', u'cat116_AT', u'cat116_AY',\n",
      "       u'cat116_BF', u'cat116_BI', u'cat116_BL', u'cat116_C', u'cat116_CC',\n",
      "       u'cat116_DQ', u'cat116_DY', u'cat116_EQ', u'cat116_EV', u'cat116_FN',\n",
      "       u'cat116_FO', u'cat116_FS', u'cat116_GQ', u'cat116_HO', u'cat116_HU',\n",
      "       u'cat116_IB', u'cat116_IK', u'cat116_IO', u'cat116_IX', u'cat116_JD',\n",
      "       u'cat116_JI', u'cat116_JN', u'cat116_JO', u'cat116_JT', u'cat116_MB',\n",
      "       u'cat116_MF', u'cat116_MT', u'cat116_P', u'cat116_V', u'cat116_W',\n",
      "       u'cat116_X', u'cat89_I', u'cat90_G', u'cat92_F'],\n",
      "      dtype='object')\n",
      "(74,)\n"
     ]
    },
    {
     "name": "stderr",
     "output_type": "stream",
     "text": [
      "/home/chi/anaconda2/lib/python2.7/site-packages/ipykernel/__main__.py:1: FutureWarning: using '-' to provide set differences with Indexes is deprecated, use .difference()\n",
      "  if __name__ == '__main__':\n"
     ]
    }
   ],
   "source": [
    "train_only = train_col - common_col\n",
    "print train_only\n",
    "print train_only.shape"
   ]
  },
  {
   "cell_type": "code",
   "execution_count": 13,
   "metadata": {
    "collapsed": false
   },
   "outputs": [],
   "source": [
    "xtrain_com = xtrain[common_col]\n",
    "xtest_com = xtest[common_col]"
   ]
  },
  {
   "cell_type": "code",
   "execution_count": 14,
   "metadata": {
    "collapsed": false
   },
   "outputs": [
    {
     "name": "stdout",
     "output_type": "stream",
     "text": [
      "dimension of xtrain: (188318, 1079)\n",
      "dimension of xtest: (125546, 1079)\n",
      "dimension of ytrain: (188318, 1)\n"
     ]
    }
   ],
   "source": [
    "print 'dimension of xtrain: {}'.format(xtrain_com.shape)\n",
    "print 'dimension of xtest: {}'.format(xtest_com.shape)\n",
    "print 'dimension of ytrain: {}'.format(ytrain.shape)"
   ]
  },
  {
   "cell_type": "markdown",
   "metadata": {},
   "source": [
    "# Selection of most importance features."
   ]
  },
  {
   "cell_type": "code",
   "execution_count": 35,
   "metadata": {
    "collapsed": false
   },
   "outputs": [
    {
     "data": {
      "text/html": [
       "<div>\n",
       "<table border=\"1\" class=\"dataframe\">\n",
       "  <thead>\n",
       "    <tr style=\"text-align: right;\">\n",
       "      <th></th>\n",
       "      <th>feature</th>\n",
       "      <th>fscore</th>\n",
       "    </tr>\n",
       "  </thead>\n",
       "  <tbody>\n",
       "    <tr>\n",
       "      <th>531</th>\n",
       "      <td>cont14</td>\n",
       "      <td>10593</td>\n",
       "    </tr>\n",
       "    <tr>\n",
       "      <th>530</th>\n",
       "      <td>cont7</td>\n",
       "      <td>5615</td>\n",
       "    </tr>\n",
       "    <tr>\n",
       "      <th>529</th>\n",
       "      <td>cont6</td>\n",
       "      <td>3631</td>\n",
       "    </tr>\n",
       "    <tr>\n",
       "      <th>528</th>\n",
       "      <td>cont2</td>\n",
       "      <td>3340</td>\n",
       "    </tr>\n",
       "    <tr>\n",
       "      <th>527</th>\n",
       "      <td>cont1</td>\n",
       "      <td>3216</td>\n",
       "    </tr>\n",
       "    <tr>\n",
       "      <th>526</th>\n",
       "      <td>cont8</td>\n",
       "      <td>3190</td>\n",
       "    </tr>\n",
       "    <tr>\n",
       "      <th>525</th>\n",
       "      <td>cont4</td>\n",
       "      <td>3007</td>\n",
       "    </tr>\n",
       "    <tr>\n",
       "      <th>524</th>\n",
       "      <td>cont13</td>\n",
       "      <td>3005</td>\n",
       "    </tr>\n",
       "    <tr>\n",
       "      <th>523</th>\n",
       "      <td>cont5</td>\n",
       "      <td>2847</td>\n",
       "    </tr>\n",
       "    <tr>\n",
       "      <th>522</th>\n",
       "      <td>cont3</td>\n",
       "      <td>2711</td>\n",
       "    </tr>\n",
       "  </tbody>\n",
       "</table>\n",
       "</div>"
      ],
      "text/plain": [
       "    feature  fscore\n",
       "531  cont14   10593\n",
       "530   cont7    5615\n",
       "529   cont6    3631\n",
       "528   cont2    3340\n",
       "527   cont1    3216\n",
       "526   cont8    3190\n",
       "525   cont4    3007\n",
       "524  cont13    3005\n",
       "523   cont5    2847\n",
       "522   cont3    2711"
      ]
     },
     "execution_count": 35,
     "metadata": {},
     "output_type": "execute_result"
    }
   ],
   "source": [
    "feature_imp = pd.read_csv('features_importance.csv', index_col= 0 )\n",
    "feature_imp.head(10)"
   ]
  },
  {
   "cell_type": "code",
   "execution_count": 45,
   "metadata": {
    "collapsed": false
   },
   "outputs": [
    {
     "data": {
      "text/plain": [
       "(425,)"
      ]
     },
     "execution_count": 45,
     "metadata": {},
     "output_type": "execute_result"
    }
   ],
   "source": [
    "select_percent = 0.8  # select the first 80% of the most important features\n",
    "nrow = int(importance_df.shape[0] * select_percent)\n",
    "selected_features = importance_df['feature'][:nrow].values\n",
    "selected_features.shape"
   ]
  },
  {
   "cell_type": "code",
   "execution_count": 43,
   "metadata": {
    "collapsed": false
   },
   "outputs": [
    {
     "name": "stdout",
     "output_type": "stream",
     "text": [
      "(188318, 425)\n",
      "(125546, 425)\n"
     ]
    }
   ],
   "source": [
    "xtrain_sel = xtrain_com[selected_features].as_matrix()\n",
    "xtest_sel = xtest_com[selected_features].as_matrix()\n",
    "print xtrain_sel.shape\n",
    "print xtest_sel.shape"
   ]
  },
  {
   "cell_type": "code",
   "execution_count": 21,
   "metadata": {
    "collapsed": true
   },
   "outputs": [],
   "source": [
    "# parameters\n",
    "\n",
    "shift = 200\n",
    "ytrain_xgb= np.log(ytrain + shift)\n",
    "xtrain_xgb= xtrain_com.as_matrix()\n",
    "xtest_xgb= xtest_com.as_matrix()\n",
    "\n",
    "num_rounds = 4000\n",
    "random_state = 2016\n",
    "early_stopping = 25\n",
    "nfolds = 3\n",
    "\n",
    "def eval_error(ypred, dtrain):\n",
    "    ytrue = dtrain.get_label()\n",
    "    return 'mae', mean_absolute_error(np.exp(ypred), np.exp(ytrue))\n",
    "\n",
    "def logregobj(ypred, dtrain):\n",
    "    ytrue = dtrain.get_label()\n",
    "    x = ypred - ytrue\n",
    "    grad = np.tanh(x)\n",
    "    hess = 1.0 - grad * grad\n",
    "    return grad, hess\n",
    "\n",
    "# def logregobj(ypred, dtrain):\n",
    "#     ytrue = dtrain.get_label()\n",
    "#     constant = 2\n",
    "#     x = ypred - ytrue\n",
    "#     grad = constant * x / (abs(x) + constant)\n",
    "#     hess = constant ** 2 / (abs(x) + constant) ** 2\n",
    "#     return grad, hess\n",
    "\n",
    "params = {}\n",
    "params['min_child_weight'] = 137\n",
    "params['colsample_bytree'] = 0.6017\n",
    "params['max_depth'] = 9\n",
    "params['subsample'] = 0.8614\n",
    "params['gamma'] = 0.6569\n",
    "params['alpha'] = 1\n",
    "params['eta'] = 0.02\n",
    "params['silent'] = 1\n",
    "params['verbose_eval'] = True\n",
    "params['seed'] = random_state\n",
    "params['early_stopping_rounds'] = early_stopping\n",
    "\n",
    "cv_sum = 0\n",
    "fpred = []\n",
    "xgb_rounds = []\n",
    "ntrain = xtrain_com.shape[0]\n"
   ]
  },
  {
   "cell_type": "markdown",
   "metadata": {},
   "source": [
    "# Xgboost using selected features."
   ]
  },
  {
   "cell_type": "code",
   "execution_count": 46,
   "metadata": {
    "collapsed": false
   },
   "outputs": [
    {
     "name": "stdout",
     "output_type": "stream",
     "text": [
      "\n",
      "\n",
      "\n",
      "finished in 25 mins\n",
      "the best iteration round: 1778\n",
      "\n",
      " Average cv score of xgboost: 1137.687012\n"
     ]
    }
   ],
   "source": [
    "# xgboost crossvalidation score by selection the most important features\n",
    "# using the parameters I obtained from the bayes_opt by myself\n",
    "\n",
    "start_time = time.time()\n",
    "\n",
    "\n",
    "# kf = KFold(n_splits = nfolds, shuffle= True, random_state = random_state)\n",
    "# for i, (train_index, test_index) in enumerate(kf):\n",
    "    \n",
    "#     X_train, X_val = xtrain_xgb_cv[train_index], xtrain_xgb_cv[test_index]\n",
    "#     y_train, y_val = ytrain_xgb_cv[train_index], ytrain_xbg_cv[test_index]\n",
    "    \n",
    "#     d_train = xgb.DMatrix(X_train, label = y_train)\n",
    "#     d_valid = xgb.DMatrix(X_val, label = y_val)\n",
    "#     watchlist = [(d_train, 'train'), (d_valid,'eval')]\n",
    "    \n",
    "#     clf = xgb.train(params, d_train, num_round, watchlist, early_stopping_rounds= early_stopping)\n",
    "#     scores_val = clf.predict(d_valid, ntree_limit=clf.best_ntree_limit)\n",
    "#     cv_score = mae(y_val, scores_val)  # import mean_absolute_error from sklearn as mae\n",
    "#     print(' eval-auc: %.6f' % cv_score)\n",
    "    \n",
    "#     cv_sum += cv_score\n",
    "\n",
    "xgtrain_sel = xgb.DMatrix(xtrain_sel, label = ytrain_xgb)\n",
    "cv_result = xgb.cv(params, xgtrain_sel, feval= eval_error, num_boost_round = num_rounds, nfold = nfolds, \n",
    "                       seed = random_state, early_stopping_rounds = early_stopping)\n",
    "\n",
    "score = cv_result['test-mae-mean'].values[-1]\n",
    "\n",
    "process_time = int((time.time()-start_time)/60)   # in mins\n",
    "print (\"\\n\\n\\nfinished in %d mins\" % process_time)\n",
    "# print (\"average_round:%d \") % int(np.mean(xgb_rounds))\n",
    "# score = cv_sum / folds\n",
    "print ('the best iteration round: %d' % cv_result.shape[0])\n",
    "print ('\\n Average cv score of xgboost: %.6f' % score)\n",
    "\n",
    "with open('Bayes_Opt_cv_1117.txt','a') as file:\n",
    "    \n",
    "    file.writelines('\\n\\n')\n",
    "    file.writelines('%f of the features are selected\\n' % select_percent)\n",
    "    file.writelines('%d\\n' % shift)\n",
    "    for key in params.keys():\n",
    "        file.writelines('p[' + key + '] = ' + str(params.get(key)))\n",
    "        file.writelines('\\n')\n",
    "    file.writelines(\"\\n\\nfinished in %d mins\" % process_time)\n",
    "    file.writelines('\\nAverage cv score of xgboost: %.4f\\n\\n' % score)\n",
    "    file.writelines('-*' * 50 + '\\n\\n')\n",
    "\n",
    "file.close()"
   ]
  },
  {
   "cell_type": "markdown",
   "metadata": {},
   "source": [
    "# Xgboost parameter optimization"
   ]
  },
  {
   "cell_type": "code",
   "execution_count": null,
   "metadata": {
    "collapsed": true
   },
   "outputs": [],
   "source": [
    "# Xgboost model and bayesian optimization the parameter\n",
    "\n",
    "start_time = time.time()\n",
    "# num_rounds = 4000\n",
    "# random_state = 2016\n",
    "# early_stopping = 25\n",
    "# nfolds = 3\n",
    "\n",
    "xgtrain_cv = xgb.DMatrix(xtrain_xgb, label = ytrain_xgb)\n",
    "\n",
    "# xtrain_2d = xtrain.as_matrix()\n",
    "# xtest_2d = xtest.as_matrix()\n",
    "# ytrain_2d = ytrain.as_matrix()\n",
    "# kf = KFold(n_splits= nfolds, random_state = random_state)\n",
    "# for i,(train_index, test_index) in enumerate(kf):\n",
    "#     xgb_xtrain, xgb_xval = xtrain_2d[train_index], xtrain_2d[test_index]\n",
    "#     xgb_ytrain, xgb_yval = ytrain_2d[train_index], ytrain_2d[test_index]\n",
    "#     xgtrain = xgb.DMatrix(xgb_xtrain, label = xgb_ytrain)\n",
    "#     xgval = xgb.DMatrix(xgb_xval, label = xgb_yval)\n",
    "\n",
    "def xgb_evaluate(min_child_weight, colsample_bytree, max_depth, subsample, gamma, alpha,eta):\n",
    "\n",
    "    params = {}\n",
    "    params['min_child_weight'] = int(min_child_weight)\n",
    "    params['colsample_bytree'] = max(min(colsample_bytree,1),0)\n",
    "    params['max_depth'] = int(max_depth)\n",
    "    params['subsample'] = max(min(subsample,1),0)\n",
    "    params['gamma'] = max(gamma,0)\n",
    "    params['alpha'] = max(alpha,0)\n",
    "    params['eta'] = max(eta,0)\n",
    "    \n",
    "    params['silent'] = 1\n",
    "    params['verbose_eval'] = True\n",
    "    params['seed'] = random_state\n",
    "    params['early_stopping_rounds'] = early_stopping\n",
    "    \n",
    "#   cv_result = xgb.cv(params, xgtrain, num_boost_round = num_rounds, nfold = nfolds, \n",
    "#                        seed = random_state, early_stopping_rounds = early_stopping)\n",
    "    \n",
    "    cv_result = xgb.cv(params, xgtrain_cv, obj= logregobj, feval= eval_error, num_boost_round = num_rounds, nfold = nfolds, \n",
    "                       seed = random_state, early_stopping_rounds = early_stopping)\n",
    "    \n",
    "    \n",
    "    return -cv_result['test-mae-mean'].values[-1]\n",
    "\n",
    "num_iter = 20\n",
    "init_points = 3\n",
    "\n",
    "xgbBO = BayesianOptimization(xgb_evaluate, {'min_child_weight':(50,200),   \n",
    "                                            'colsample_bytree': (0.5,0.99),\n",
    "                                            'max_depth': (4,12),     # max_depth : 4-12\n",
    "                                            'subsample': (0.7, 0.9),\n",
    "                                            'gamma' : (0.01,1),\n",
    "                                            'alpha' : (0,10),\n",
    "                                            'eta': (0.01,0.2),\n",
    "                                            })\n",
    "\n",
    "xgbBO.maximize(init_points = init_points, n_iter = num_iter)\n",
    "print (\"\\n\\n\\nfinished in %f seconds\" %(time.time() - start)) \n",
    "print('Xgboost: %f' %xgbBO.res['max']['max_val'])"
   ]
  },
  {
   "cell_type": "markdown",
   "metadata": {},
   "source": [
    "# Xgboost using all common features between test and train."
   ]
  },
  {
   "cell_type": "code",
   "execution_count": 22,
   "metadata": {
    "collapsed": false
   },
   "outputs": [
    {
     "name": "stdout",
     "output_type": "stream",
     "text": [
      "\n",
      "\n",
      "\n",
      "finished in 77 mins\n",
      "the best iteration round: 2000\n",
      "\n",
      " Average cv score of xgboost: 1137.063639\n"
     ]
    }
   ],
   "source": [
    "# xgboost crossvalidation score:\n",
    "# using the parameters I obtained from the bayes_opt by myself\n",
    "\n",
    "start_time = time.time()\n",
    "\n",
    "\n",
    "# kf = KFold(n_splits = nfolds, shuffle= True, random_state = random_state)\n",
    "# for i, (train_index, test_index) in enumerate(kf):\n",
    "    \n",
    "#     X_train, X_val = xtrain_xgb_cv[train_index], xtrain_xgb_cv[test_index]\n",
    "#     y_train, y_val = ytrain_xgb_cv[train_index], ytrain_xbg_cv[test_index]\n",
    "    \n",
    "#     d_train = xgb.DMatrix(X_train, label = y_train)\n",
    "#     d_valid = xgb.DMatrix(X_val, label = y_val)\n",
    "#     watchlist = [(d_train, 'train'), (d_valid,'eval')]\n",
    "    \n",
    "#     clf = xgb.train(params, d_train, num_round, watchlist, early_stopping_rounds= early_stopping)\n",
    "#     scores_val = clf.predict(d_valid, ntree_limit=clf.best_ntree_limit)\n",
    "#     cv_score = mae(y_val, scores_val)  # import mean_absolute_error from sklearn as mae\n",
    "#     print(' eval-auc: %.6f' % cv_score)\n",
    "    \n",
    "#     cv_sum += cv_score\n",
    "\n",
    "xgtrain_cv = xgb.DMatrix(xtrain_xgb, label = ytrain_xgb)\n",
    "cv_result = xgb.cv(params, xgtrain_cv, obj= logregobj, feval= eval_error, num_boost_round = num_rounds, nfold = nfolds, \n",
    "                       seed = random_state, early_stopping_rounds = early_stopping)\n",
    "\n",
    "score = cv_result['test-mae-mean'].values[-1]\n",
    "\n",
    "process_time = int((time.time()-start_time)/60)   # in mins\n",
    "print (\"\\n\\n\\nfinished in %d mins\" % process_time)\n",
    "# print (\"average_round:%d \") % int(np.mean(xgb_rounds))\n",
    "# score = cv_sum / folds\n",
    "print ('the best iteration round: %d' % cv_result.shape[0])\n",
    "print ('\\n Average cv score of xgboost: %.6f' % score)\n",
    "\n",
    "with open('Bayes_Opt_cv_1117.txt','a') as file:\n",
    "    \n",
    "    file.writelines('\\n\\nWith self-defined logreg objective function\\n')\n",
    "    file.writelines('%d' % shift)\n",
    "    for key in params.keys():\n",
    "        file.writelines('p[' + key + '] = ' + str(params.get(key)))\n",
    "        file.writelines('\\n')\n",
    "    file.writelines(\"\\n\\nfinished in %d mins\" % process_time)\n",
    "    file.writelines('\\nAverage cv score of xgboost: %.4f\\n\\n' % score)\n",
    "    file.writelines('-*' * 50 + '\\n\\n')\n",
    "\n",
    "file.close()"
   ]
  },
  {
   "cell_type": "markdown",
   "metadata": {},
   "source": [
    "# Xgboost fitting and predicting"
   ]
  },
  {
   "cell_type": "code",
   "execution_count": 23,
   "metadata": {
    "collapsed": false
   },
   "outputs": [
    {
     "name": "stdout",
     "output_type": "stream",
     "text": [
      "\n",
      "finish training and fitting in 63 mins\n"
     ]
    }
   ],
   "source": [
    "# xgboost single model fitting.\n",
    "\n",
    "\n",
    "start_time = time.time()\n",
    "\n",
    "# selected features\n",
    "xgtrain = xgb.DMatrix(xtrain_xgb, label = ytrain_xgb)\n",
    "xgtest = xgb.DMatrix(xtest_xgb)\n",
    "\n",
    "# pay attention to the num_boost_rounds = optimum rounds/(2/3)\n",
    "clf = xgb.train(params, xgtrain, num_boost_round = 3500, obj= logregobj, feval = eval_error)  # averaging number of rounds\n",
    "\n",
    "xgb_prediction = np.exp(clf.predict(xgtest)) - shift\n",
    "\n",
    "submission_xgb = pd.DataFrame()\n",
    "submission_xgb['id'] = ids\n",
    "submission_xgb['loss'] = xgb_prediction\n",
    "submission_xgb.to_csv('results/submission_xgb_logregobj_3500.csv', index = False)\n",
    "\n",
    "process_time = int((time.time()-start_time)/60)   # in mins\n",
    "print (\"\\nfinish training and fitting in %d mins\" % process_time)"
   ]
  },
  {
   "cell_type": "code",
   "execution_count": 14,
   "metadata": {
    "collapsed": true
   },
   "outputs": [],
   "source": [
    "submission_xgb.to_csv('results/submission_xgb_2232.csv', index = False)"
   ]
  },
  {
   "cell_type": "code",
   "execution_count": 57,
   "metadata": {
    "collapsed": false
   },
   "outputs": [],
   "source": [
    "features = list(xtrain_com.columns)\n",
    "\n",
    "def create_feature_map(features):\n",
    "    outfile = open('xgb.fmap', 'w')\n",
    "    i = 0\n",
    "    for feat in features:\n",
    "        outfile.write('{0}\\t{1}\\tq\\n'.format(i, feat))\n",
    "        i = i + 1\n",
    "    outfile.close()\n",
    "    \n",
    "create_feature_map(features)"
   ]
  },
  {
   "cell_type": "code",
   "execution_count": 24,
   "metadata": {
    "collapsed": false
   },
   "outputs": [],
   "source": [
    "import operator\n",
    "import warnings\n",
    "warnings.filterwarnings(\"ignore\")\n",
    "\n",
    "importance = clf.get_fscore(fmap=\"xgb.fmap\")\n",
    "importance = sorted(importance.items(),key=operator.itemgetter(1))\n",
    "importance_df = pd.DataFrame(importance, columns=['feature', 'fscore'])\n",
    "importance_df = importance_df.sort(columns = 'fscore', ascending = False, axis = 0)"
   ]
  },
  {
   "cell_type": "code",
   "execution_count": 25,
   "metadata": {
    "collapsed": false
   },
   "outputs": [
    {
     "data": {
      "image/png": "[encoded data removed]",
      "text/plain": [
       "<matplotlib.figure.Figure at 0x7fbb2c333a10>"
      ]
     },
     "metadata": {},
     "output_type": "display_data"
    },
    {
     "data": {
      "image/png": "[encoded data removed]",
      "text/plain": [
       "<matplotlib.figure.Figure at 0x7fb984542a50>"
      ]
     },
     "metadata": {},
     "output_type": "display_data"
    }
   ],
   "source": [
    "def plot_feature(n):\n",
    "    data = importance_df.iloc[:n,:]\n",
    "    data['fscore'] = data['fscore'] / data['fscore'].sum()\n",
    "    data.plot(kind='barh', x='feature', y='fscore', legend=False, figsize=(10, 10),fontsize=5)\n",
    "    plt.title('XGBoost Feature Importance_n features',fontsize=10)\n",
    "    plt.xlabel('relative importance',fontsize=10)\n",
    "    plt.ylabel('features',fontsize=10)\n",
    "    \n",
    "plot_feature(1000)\n",
    "plot_feature(20)"
   ]
  },
  {
   "cell_type": "code",
   "execution_count": 28,
   "metadata": {
    "collapsed": true
   },
   "outputs": [],
   "source": [
    "importance_df.to_csv('features_importance.csv', index = True)"
   ]
  },
  {
   "cell_type": "code",
   "execution_count": null,
   "metadata": {
    "collapsed": true
   },
   "outputs": [],
   "source": []
  }
 ],
 "metadata": {
  "anaconda-cloud": {},
  "kernelspec": {
   "display_name": "Python [conda root]",
   "language": "python",
   "name": "conda-root-py"
  },
  "language_info": {
   "codemirror_mode": {
    "name": "ipython",
    "version": 2
   },
   "file_extension": ".py",
   "mimetype": "text/x-python",
   "name": "python",
   "nbconvert_exporter": "python",
   "pygments_lexer": "ipython2",
   "version": "2.7.12"
  }
 },
 "nbformat": 4,
 "nbformat_minor": 1
}
